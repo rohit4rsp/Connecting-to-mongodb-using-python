{
 "cells": [
  {
   "cell_type": "code",
   "execution_count": 1,
   "id": "b092f2df",
   "metadata": {},
   "outputs": [
    {
     "name": "stdout",
     "output_type": "stream",
     "text": [
      "Requirement already satisfied: pymongo in c:\\users\\shri\\anaconda3\\envs\\py38\\lib\\site-packages (4.0)\n",
      "Note: you may need to restart the kernel to use updated packages.\n"
     ]
    }
   ],
   "source": [
    "pip install pymongo"
   ]
  },
  {
   "cell_type": "markdown",
   "id": "488867b0",
   "metadata": {},
   "source": [
    "# pymongo installed"
   ]
  },
  {
   "cell_type": "code",
   "execution_count": 2,
   "id": "c159b559",
   "metadata": {},
   "outputs": [],
   "source": [
    "import pymongo"
   ]
  },
  {
   "cell_type": "code",
   "execution_count": 30,
   "id": "abbf4f4c",
   "metadata": {},
   "outputs": [
    {
     "name": "stdout",
     "output_type": "stream",
     "text": [
      "mongodb assignment\n"
     ]
    }
   ],
   "source": [
    "# if __name__ == \"__mongo__\":\n",
    "print(\"mongodb assignment\")"
   ]
  },
  {
   "cell_type": "code",
   "execution_count": 4,
   "id": "22165eab",
   "metadata": {},
   "outputs": [],
   "source": [
    "client = pymongo.MongoClient(\"mongodb://localhost:27017/\")"
   ]
  },
  {
   "cell_type": "code",
   "execution_count": 5,
   "id": "cdae0312",
   "metadata": {},
   "outputs": [
    {
     "name": "stdout",
     "output_type": "stream",
     "text": [
      "MongoClient(host=['localhost:27017'], document_class=dict, tz_aware=False, connect=True)\n"
     ]
    }
   ],
   "source": [
    "print(client)"
   ]
  },
  {
   "cell_type": "code",
   "execution_count": 6,
   "id": "3574b423",
   "metadata": {},
   "outputs": [],
   "source": [
    "db = client[\"Rohit\"]                             #create database"
   ]
  },
  {
   "cell_type": "code",
   "execution_count": 7,
   "id": "f5ebcf7f",
   "metadata": {},
   "outputs": [],
   "source": [
    "collection = db[\"collectioninRohit\"]             #create collection"
   ]
  },
  {
   "cell_type": "markdown",
   "id": "74f14803",
   "metadata": {},
   "source": [
    "# insert_one()"
   ]
  },
  {
   "cell_type": "code",
   "execution_count": 8,
   "id": "2a1147bc",
   "metadata": {},
   "outputs": [],
   "source": [
    "dictionary = {'name':\"Rohit\" , 'marks': 100}     #create document to insert in collection so that database is generated when using pymongo\n",
    "\n",
    "#collection.insert_one(dictionary)"
   ]
  },
  {
   "cell_type": "code",
   "execution_count": 9,
   "id": "e87bdbcc",
   "metadata": {},
   "outputs": [],
   "source": [
    "dictionary1 = {'name':\"Rahul\" , 'marks': 78}     \n",
    "\n",
    "#collection.insert_one(dictionary1)"
   ]
  },
  {
   "cell_type": "code",
   "execution_count": 10,
   "id": "2d273346",
   "metadata": {},
   "outputs": [],
   "source": [
    "insert = [{'_id': 11 , 'name':\"Rahul\" ,'place':'USA', 'marks': 78},{'_id': 12 , 'name':\"Rohan\" , 'marks': 88}, {'_id': 13 , 'name':\"Rangit\" , 'marks': 77},{'_id': 14 , 'name':\"vastu\" , 'marks': 98}]"
   ]
  },
  {
   "cell_type": "markdown",
   "id": "bbeda4e3",
   "metadata": {},
   "source": [
    "# insert_many()"
   ]
  },
  {
   "cell_type": "code",
   "execution_count": 11,
   "id": "16082031",
   "metadata": {},
   "outputs": [
    {
     "ename": "BulkWriteError",
     "evalue": "batch op errors occurred, full error: {'writeErrors': [{'index': 0, 'code': 11000, 'keyPattern': {'_id': 1}, 'keyValue': {'_id': 11}, 'errmsg': 'E11000 duplicate key error collection: Rohit.collectioninRohit index: _id_ dup key: { _id: 11 }', 'op': {'_id': 11, 'name': 'Rahul', 'place': 'USA', 'marks': 78}}], 'writeConcernErrors': [], 'nInserted': 0, 'nUpserted': 0, 'nMatched': 0, 'nModified': 0, 'nRemoved': 0, 'upserted': []}",
     "output_type": "error",
     "traceback": [
      "\u001b[1;31m---------------------------------------------------------------------------\u001b[0m",
      "\u001b[1;31mBulkWriteError\u001b[0m                            Traceback (most recent call last)",
      "\u001b[1;32m~\\AppData\\Local\\Temp/ipykernel_7344/4193369680.py\u001b[0m in \u001b[0;36m<module>\u001b[1;34m\u001b[0m\n\u001b[1;32m----> 1\u001b[1;33m \u001b[0mcollection\u001b[0m\u001b[1;33m.\u001b[0m\u001b[0minsert_many\u001b[0m\u001b[1;33m(\u001b[0m\u001b[0minsert\u001b[0m\u001b[1;33m)\u001b[0m\u001b[1;33m\u001b[0m\u001b[1;33m\u001b[0m\u001b[0m\n\u001b[0m",
      "\u001b[1;32m~\\anaconda3\\envs\\py38\\lib\\site-packages\\pymongo\\collection.py\u001b[0m in \u001b[0;36minsert_many\u001b[1;34m(self, documents, ordered, bypass_document_validation, session)\u001b[0m\n\u001b[0;32m    587\u001b[0m         \u001b[0mblk\u001b[0m \u001b[1;33m=\u001b[0m \u001b[0m_Bulk\u001b[0m\u001b[1;33m(\u001b[0m\u001b[0mself\u001b[0m\u001b[1;33m,\u001b[0m \u001b[0mordered\u001b[0m\u001b[1;33m,\u001b[0m \u001b[0mbypass_document_validation\u001b[0m\u001b[1;33m)\u001b[0m\u001b[1;33m\u001b[0m\u001b[1;33m\u001b[0m\u001b[0m\n\u001b[0;32m    588\u001b[0m         \u001b[0mblk\u001b[0m\u001b[1;33m.\u001b[0m\u001b[0mops\u001b[0m \u001b[1;33m=\u001b[0m \u001b[1;33m[\u001b[0m\u001b[0mdoc\u001b[0m \u001b[1;32mfor\u001b[0m \u001b[0mdoc\u001b[0m \u001b[1;32min\u001b[0m \u001b[0mgen\u001b[0m\u001b[1;33m(\u001b[0m\u001b[1;33m)\u001b[0m\u001b[1;33m]\u001b[0m\u001b[1;33m\u001b[0m\u001b[1;33m\u001b[0m\u001b[0m\n\u001b[1;32m--> 589\u001b[1;33m         \u001b[0mblk\u001b[0m\u001b[1;33m.\u001b[0m\u001b[0mexecute\u001b[0m\u001b[1;33m(\u001b[0m\u001b[0mwrite_concern\u001b[0m\u001b[1;33m,\u001b[0m \u001b[0msession\u001b[0m\u001b[1;33m=\u001b[0m\u001b[0msession\u001b[0m\u001b[1;33m)\u001b[0m\u001b[1;33m\u001b[0m\u001b[1;33m\u001b[0m\u001b[0m\n\u001b[0m\u001b[0;32m    590\u001b[0m         \u001b[1;32mreturn\u001b[0m \u001b[0mInsertManyResult\u001b[0m\u001b[1;33m(\u001b[0m\u001b[0minserted_ids\u001b[0m\u001b[1;33m,\u001b[0m \u001b[0mwrite_concern\u001b[0m\u001b[1;33m.\u001b[0m\u001b[0macknowledged\u001b[0m\u001b[1;33m)\u001b[0m\u001b[1;33m\u001b[0m\u001b[1;33m\u001b[0m\u001b[0m\n\u001b[0;32m    591\u001b[0m \u001b[1;33m\u001b[0m\u001b[0m\n",
      "\u001b[1;32m~\\anaconda3\\envs\\py38\\lib\\site-packages\\pymongo\\bulk.py\u001b[0m in \u001b[0;36mexecute\u001b[1;34m(self, write_concern, session)\u001b[0m\n\u001b[0;32m    446\u001b[0m                 \u001b[0mself\u001b[0m\u001b[1;33m.\u001b[0m\u001b[0mexecute_no_results\u001b[0m\u001b[1;33m(\u001b[0m\u001b[0msock_info\u001b[0m\u001b[1;33m,\u001b[0m \u001b[0mgenerator\u001b[0m\u001b[1;33m)\u001b[0m\u001b[1;33m\u001b[0m\u001b[1;33m\u001b[0m\u001b[0m\n\u001b[0;32m    447\u001b[0m         \u001b[1;32melse\u001b[0m\u001b[1;33m:\u001b[0m\u001b[1;33m\u001b[0m\u001b[1;33m\u001b[0m\u001b[0m\n\u001b[1;32m--> 448\u001b[1;33m             \u001b[1;32mreturn\u001b[0m \u001b[0mself\u001b[0m\u001b[1;33m.\u001b[0m\u001b[0mexecute_command\u001b[0m\u001b[1;33m(\u001b[0m\u001b[0mgenerator\u001b[0m\u001b[1;33m,\u001b[0m \u001b[0mwrite_concern\u001b[0m\u001b[1;33m,\u001b[0m \u001b[0msession\u001b[0m\u001b[1;33m)\u001b[0m\u001b[1;33m\u001b[0m\u001b[1;33m\u001b[0m\u001b[0m\n\u001b[0m",
      "\u001b[1;32m~\\anaconda3\\envs\\py38\\lib\\site-packages\\pymongo\\bulk.py\u001b[0m in \u001b[0;36mexecute_command\u001b[1;34m(self, generator, write_concern, session)\u001b[0m\n\u001b[0;32m    346\u001b[0m \u001b[1;33m\u001b[0m\u001b[0m\n\u001b[0;32m    347\u001b[0m         \u001b[1;32mif\u001b[0m \u001b[0mfull_result\u001b[0m\u001b[1;33m[\u001b[0m\u001b[1;34m\"writeErrors\"\u001b[0m\u001b[1;33m]\u001b[0m \u001b[1;32mor\u001b[0m \u001b[0mfull_result\u001b[0m\u001b[1;33m[\u001b[0m\u001b[1;34m\"writeConcernErrors\"\u001b[0m\u001b[1;33m]\u001b[0m\u001b[1;33m:\u001b[0m\u001b[1;33m\u001b[0m\u001b[1;33m\u001b[0m\u001b[0m\n\u001b[1;32m--> 348\u001b[1;33m             \u001b[0m_raise_bulk_write_error\u001b[0m\u001b[1;33m(\u001b[0m\u001b[0mfull_result\u001b[0m\u001b[1;33m)\u001b[0m\u001b[1;33m\u001b[0m\u001b[1;33m\u001b[0m\u001b[0m\n\u001b[0m\u001b[0;32m    349\u001b[0m         \u001b[1;32mreturn\u001b[0m \u001b[0mfull_result\u001b[0m\u001b[1;33m\u001b[0m\u001b[1;33m\u001b[0m\u001b[0m\n\u001b[0;32m    350\u001b[0m \u001b[1;33m\u001b[0m\u001b[0m\n",
      "\u001b[1;32m~\\anaconda3\\envs\\py38\\lib\\site-packages\\pymongo\\bulk.py\u001b[0m in \u001b[0;36m_raise_bulk_write_error\u001b[1;34m(full_result)\u001b[0m\n\u001b[0;32m    131\u001b[0m         full_result[\"writeErrors\"].sort(\n\u001b[0;32m    132\u001b[0m             key=lambda error: error[\"index\"])\n\u001b[1;32m--> 133\u001b[1;33m     \u001b[1;32mraise\u001b[0m \u001b[0mBulkWriteError\u001b[0m\u001b[1;33m(\u001b[0m\u001b[0mfull_result\u001b[0m\u001b[1;33m)\u001b[0m\u001b[1;33m\u001b[0m\u001b[1;33m\u001b[0m\u001b[0m\n\u001b[0m\u001b[0;32m    134\u001b[0m \u001b[1;33m\u001b[0m\u001b[0m\n\u001b[0;32m    135\u001b[0m \u001b[1;33m\u001b[0m\u001b[0m\n",
      "\u001b[1;31mBulkWriteError\u001b[0m: batch op errors occurred, full error: {'writeErrors': [{'index': 0, 'code': 11000, 'keyPattern': {'_id': 1}, 'keyValue': {'_id': 11}, 'errmsg': 'E11000 duplicate key error collection: Rohit.collectioninRohit index: _id_ dup key: { _id: 11 }', 'op': {'_id': 11, 'name': 'Rahul', 'place': 'USA', 'marks': 78}}], 'writeConcernErrors': [], 'nInserted': 0, 'nUpserted': 0, 'nMatched': 0, 'nModified': 0, 'nRemoved': 0, 'upserted': []}"
     ]
    }
   ],
   "source": [
    "collection.insert_many(insert)"
   ]
  },
  {
   "cell_type": "markdown",
   "id": "ed7d4741",
   "metadata": {},
   "source": [
    "# find_one()"
   ]
  },
  {
   "cell_type": "code",
   "execution_count": 12,
   "id": "70c55f01",
   "metadata": {},
   "outputs": [
    {
     "name": "stdout",
     "output_type": "stream",
     "text": [
      "{'_id': ObjectId('61afac89cd08ae02bf377863'), 'name': 'Rohit', 'marks': 100}\n"
     ]
    }
   ],
   "source": [
    "one = collection.find_one()\n",
    "print(one)"
   ]
  },
  {
   "cell_type": "code",
   "execution_count": 13,
   "id": "c94c2c2c",
   "metadata": {},
   "outputs": [
    {
     "name": "stdout",
     "output_type": "stream",
     "text": [
      "{'_id': ObjectId('61afae6ccd08ae02bf377866'), 'name': 'Rohan', 'marks': 88}\n"
     ]
    }
   ],
   "source": [
    "one1 = collection.find_one({'name':\"Rohan\"})\n",
    "print(one1)"
   ]
  },
  {
   "cell_type": "markdown",
   "id": "862d7ed4",
   "metadata": {},
   "source": [
    "# find()"
   ]
  },
  {
   "cell_type": "code",
   "execution_count": 14,
   "id": "83233a16",
   "metadata": {},
   "outputs": [
    {
     "name": "stdout",
     "output_type": "stream",
     "text": [
      "<pymongo.cursor.Cursor object at 0x00000221185ACE20>\n"
     ]
    }
   ],
   "source": [
    "alldocs = collection.find({'name':\"Rahul\"})\n",
    "print(alldocs)"
   ]
  },
  {
   "cell_type": "code",
   "execution_count": 15,
   "id": "8be9cacd",
   "metadata": {},
   "outputs": [
    {
     "name": "stdout",
     "output_type": "stream",
     "text": [
      "{'_id': ObjectId('61afad94cd08ae02bf377864'), 'name': 'Rahul', 'marks': 78, 'place': 'Dilli'}\n",
      "{'_id': ObjectId('61afae6ccd08ae02bf377865'), 'name': 'Rahul', 'marks': 78}\n",
      "{'_id': 1, 'name': 'Rahul', 'marks': 78}\n",
      "{'_id': 11, 'name': 'Rahul', 'place': 'USA', 'marks': 78}\n"
     ]
    }
   ],
   "source": [
    "for item in alldocs:\n",
    "    print(item)"
   ]
  },
  {
   "cell_type": "markdown",
   "id": "c64bb8de",
   "metadata": {},
   "source": [
    "# inclusion and exclusion in find()"
   ]
  },
  {
   "cell_type": "raw",
   "id": "65f784a8",
   "metadata": {},
   "source": [
    "0 --> do not want to display\n",
    "1 --> want to display\n",
    "when name is 0 others are 1\n",
    "id can be set by us (by default 1)"
   ]
  },
  {
   "cell_type": "code",
   "execution_count": 16,
   "id": "43cb4651",
   "metadata": {},
   "outputs": [
    {
     "name": "stdout",
     "output_type": "stream",
     "text": [
      "<pymongo.cursor.Cursor object at 0x00000221185ACFA0>\n"
     ]
    }
   ],
   "source": [
    "alldocs1 = collection.find({'name':\"vastu\"},{'name':1,'_id':0})\n",
    "print(alldocs1)"
   ]
  },
  {
   "cell_type": "code",
   "execution_count": 17,
   "id": "f57b8752",
   "metadata": {},
   "outputs": [
    {
     "name": "stdout",
     "output_type": "stream",
     "text": [
      "{'name': 'vastu'}\n",
      "{'name': 'vastu'}\n",
      "{'name': 'vastu'}\n"
     ]
    }
   ],
   "source": [
    "for item in alldocs1:\n",
    "    print(item)"
   ]
  },
  {
   "cell_type": "code",
   "execution_count": 18,
   "id": "626fb8fe",
   "metadata": {},
   "outputs": [
    {
     "name": "stdout",
     "output_type": "stream",
     "text": [
      "['Abhi', 'Rohit', 'admin', 'config', 'local', 'rocky']\n"
     ]
    }
   ],
   "source": [
    "alldbs = client.list_database_names()\n",
    "print(alldbs)"
   ]
  },
  {
   "cell_type": "code",
   "execution_count": 19,
   "id": "7c653943",
   "metadata": {},
   "outputs": [
    {
     "name": "stdout",
     "output_type": "stream",
     "text": [
      "['collectioninRohit']\n"
     ]
    }
   ],
   "source": [
    "col = client[\"Rohit\"]\n",
    "print(col.list_collection_names())                    #show collections in db"
   ]
  },
  {
   "cell_type": "code",
   "execution_count": 28,
   "id": "242ee6b9",
   "metadata": {},
   "outputs": [
    {
     "ename": "AttributeError",
     "evalue": "'Cursor' object has no attribute 'count'",
     "output_type": "error",
     "traceback": [
      "\u001b[1;31m---------------------------------------------------------------------------\u001b[0m",
      "\u001b[1;31mAttributeError\u001b[0m                            Traceback (most recent call last)",
      "\u001b[1;32m~\\AppData\\Local\\Temp/ipykernel_7344/397183773.py\u001b[0m in \u001b[0;36m<module>\u001b[1;34m\u001b[0m\n\u001b[0;32m      1\u001b[0m \u001b[0malldocs2\u001b[0m \u001b[1;33m=\u001b[0m \u001b[0mcollection\u001b[0m\u001b[1;33m.\u001b[0m\u001b[0mfind\u001b[0m\u001b[1;33m(\u001b[0m\u001b[1;33m{\u001b[0m\u001b[1;34m'name'\u001b[0m\u001b[1;33m:\u001b[0m\u001b[1;34m\"Rahul\"\u001b[0m\u001b[1;33m}\u001b[0m\u001b[1;33m,\u001b[0m\u001b[1;33m{\u001b[0m\u001b[1;34m'name'\u001b[0m\u001b[1;33m:\u001b[0m\u001b[1;36m0\u001b[0m\u001b[1;33m}\u001b[0m\u001b[1;33m)\u001b[0m\u001b[1;33m.\u001b[0m\u001b[0mlimit\u001b[0m\u001b[1;33m(\u001b[0m\u001b[1;36m1\u001b[0m\u001b[1;33m)\u001b[0m\u001b[1;33m\u001b[0m\u001b[1;33m\u001b[0m\u001b[0m\n\u001b[1;32m----> 2\u001b[1;33m \u001b[0mprint\u001b[0m\u001b[1;33m(\u001b[0m\u001b[0malldocs2\u001b[0m\u001b[1;33m.\u001b[0m\u001b[0mcount\u001b[0m\u001b[1;33m)\u001b[0m\u001b[1;33m\u001b[0m\u001b[1;33m\u001b[0m\u001b[0m\n\u001b[0m\u001b[0;32m      3\u001b[0m \u001b[1;32mfor\u001b[0m \u001b[0mitem\u001b[0m \u001b[1;32min\u001b[0m \u001b[0malldocs2\u001b[0m\u001b[1;33m:\u001b[0m\u001b[1;33m\u001b[0m\u001b[1;33m\u001b[0m\u001b[0m\n\u001b[0;32m      4\u001b[0m     \u001b[0mprint\u001b[0m\u001b[1;33m(\u001b[0m\u001b[0mitem\u001b[0m\u001b[1;33m)\u001b[0m\u001b[1;33m\u001b[0m\u001b[1;33m\u001b[0m\u001b[0m\n",
      "\u001b[1;31mAttributeError\u001b[0m: 'Cursor' object has no attribute 'count'"
     ]
    }
   ],
   "source": [
    "alldocs2 = collection.find({'name':\"Rahul\"},{'name':0}).limit(1)\n",
    "# print(alldocs2.count())\n",
    "for item in alldocs2:\n",
    "    print(item)"
   ]
  },
  {
   "cell_type": "markdown",
   "id": "d9103ad5",
   "metadata": {},
   "source": [
    "# update_one()"
   ]
  },
  {
   "cell_type": "code",
   "execution_count": 23,
   "id": "6932643a",
   "metadata": {},
   "outputs": [
    {
     "data": {
      "text/plain": [
       "<pymongo.results.UpdateResult at 0x2211845a900>"
      ]
     },
     "execution_count": 23,
     "metadata": {},
     "output_type": "execute_result"
    }
   ],
   "source": [
    "prev = {\"name\":\"Rahul\"}\n",
    "nextt = {\"$set\":{\"place\":\"Dilli\"}}\n",
    "collection.update_one(prev, nextt)"
   ]
  },
  {
   "cell_type": "code",
   "execution_count": 24,
   "id": "736795f6",
   "metadata": {},
   "outputs": [
    {
     "name": "stdout",
     "output_type": "stream",
     "text": [
      "{'_id': ObjectId('61afad94cd08ae02bf377864'), 'name': 'Rahul', 'marks': 78, 'place': 'Dilli'}\n",
      "{'_id': ObjectId('61afae6ccd08ae02bf377865'), 'name': 'Rahul', 'marks': 78}\n",
      "{'_id': 1, 'name': 'Rahul', 'marks': 78}\n",
      "{'_id': 11, 'name': 'Rahul', 'place': 'USA', 'marks': 78}\n"
     ]
    }
   ],
   "source": [
    "alldocs3 = collection.find({'name':\"Rahul\"})\n",
    "for item in alldocs3:\n",
    "    print(item)"
   ]
  },
  {
   "cell_type": "code",
   "execution_count": 26,
   "id": "a6cb97c7",
   "metadata": {},
   "outputs": [
    {
     "data": {
      "text/plain": [
       "<pymongo.results.UpdateResult at 0x22118668fc0>"
      ]
     },
     "execution_count": 26,
     "metadata": {},
     "output_type": "execute_result"
    }
   ],
   "source": [
    "prev = {\"name\":\"Rahul\"}\n",
    "nextt = {\"$set\":{\"place\":\"ulhasnagar\"}}\n",
    "collection.update_one(prev, nextt)"
   ]
  },
  {
   "cell_type": "code",
   "execution_count": 33,
   "id": "6ab4d52f",
   "metadata": {},
   "outputs": [
    {
     "data": {
      "text/plain": [
       "<pymongo.results.UpdateResult at 0x2211a83a8c0>"
      ]
     },
     "execution_count": 33,
     "metadata": {},
     "output_type": "execute_result"
    }
   ],
   "source": [
    "prev = {\"name\":\"Rahul\"}\n",
    "nextt = {\"$set\":{\"marks\":99}}\n",
    "collection.update_one(prev, nextt)"
   ]
  },
  {
   "cell_type": "markdown",
   "id": "3d24e93a",
   "metadata": {},
   "source": [
    "# delete_one()"
   ]
  },
  {
   "cell_type": "code",
   "execution_count": 29,
   "id": "e69c5e06",
   "metadata": {},
   "outputs": [
    {
     "data": {
      "text/plain": [
       "<pymongo.results.DeleteResult at 0x22118241ec0>"
      ]
     },
     "execution_count": 29,
     "metadata": {},
     "output_type": "execute_result"
    }
   ],
   "source": [
    "rec = {\"name\":\"vastu\"}\n",
    "collection.delete_one(rec)"
   ]
  },
  {
   "cell_type": "code",
   "execution_count": 37,
   "id": "a231080a",
   "metadata": {},
   "outputs": [
    {
     "name": "stdout",
     "output_type": "stream",
     "text": [
      "{'_id': ObjectId('61afad94cd08ae02bf377864'), 'marks': 99, 'place': 'ulhasnagar'}\n",
      "{'_id': ObjectId('61afae6ccd08ae02bf377865'), 'marks': 99}\n",
      "{'_id': 1, 'marks': 99}\n",
      "{'_id': 11, 'place': 'USA', 'marks': 100}\n"
     ]
    }
   ],
   "source": [
    "alldocs5 = collection.find({'name':\"Rahul\"},{'name':0})\n",
    "# print(alldocs5.count())\n",
    "for item in alldocs5:\n",
    "    print(item)\n"
   ]
  },
  {
   "cell_type": "code",
   "execution_count": null,
   "id": "e05c1ac1",
   "metadata": {},
   "outputs": [],
   "source": []
  }
 ],
 "metadata": {
  "kernelspec": {
   "display_name": "Python 3 (ipykernel)",
   "language": "python",
   "name": "python3"
  },
  "language_info": {
   "codemirror_mode": {
    "name": "ipython",
    "version": 3
   },
   "file_extension": ".py",
   "mimetype": "text/x-python",
   "name": "python",
   "nbconvert_exporter": "python",
   "pygments_lexer": "ipython3",
   "version": "3.8.12"
  }
 },
 "nbformat": 4,
 "nbformat_minor": 5
}
